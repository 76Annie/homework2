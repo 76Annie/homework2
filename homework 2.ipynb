{
 "cells": [
  {
   "cell_type": "code",
   "execution_count": 1,
   "metadata": {},
   "outputs": [
    {
     "name": "stdout",
     "output_type": "stream",
     "text": [
      "<class 'tuple'>\n",
      "<class 'tuple'>\n"
     ]
    }
   ],
   "source": [
    "# In[1]:\n",
    "fruits = ('WATERLEMON','LEMON','PEAR')\n",
    "vegetable = ('tomato','patato','cauliflower')\n",
    "print(type(fruits))\n",
    "print(type(vegetable))"
   ]
  },
  {
   "cell_type": "code",
   "execution_count": 2,
   "metadata": {},
   "outputs": [
    {
     "name": "stdout",
     "output_type": "stream",
     "text": [
      "('WATERLEMON', 'LEMON', 'PEAR', 'tomato', 'patato', 'cauliflower')\n"
     ]
    }
   ],
   "source": [
    "# In[2]:\n",
    "fruits_vegetable = fruits+vegetable\n",
    "print(fruits_vegetable)"
   ]
  },
  {
   "cell_type": "code",
   "execution_count": 3,
   "metadata": {},
   "outputs": [
    {
     "name": "stdout",
     "output_type": "stream",
     "text": [
      "6\n"
     ]
    }
   ],
   "source": [
    "# In[3]:\n",
    "print(len(fruits_vegetable))"
   ]
  },
  {
   "cell_type": "code",
   "execution_count": 5,
   "metadata": {},
   "outputs": [
    {
     "name": "stdout",
     "output_type": "stream",
     "text": [
      "('WATERLEMON', 'LEMON', 'PEAR', 'tomato', 'patato', 'cauliflower', 'lentinula edodes', 'XUEBI')\n"
     ]
    }
   ],
   "source": [
    "# In[4]:\n",
    "favorite_mushroom =('lentinula edodes',)\n",
    "favorite_beverage = ( 'XUEBI',)\n",
    "food_tuple = fruits_vegetable+favorite_mushroom+favorite_beverage\n",
    "print(food_tuple)"
   ]
  },
  {
   "cell_type": "code",
   "execution_count": 6,
   "metadata": {},
   "outputs": [
    {
     "name": "stdout",
     "output_type": "stream",
     "text": [
      "('WATERLEMON', 'LEMON', 'PEAR', 'tomato', 'patato', 'cauliflower')\n",
      "lentinula edodes\n",
      "XUEBI\n"
     ]
    }
   ],
   "source": [
    "# In[5]:\n",
    "fruits_vegetable = food_tuple[0:6]\n",
    "favorite_mushroom =food_tuple[-2]\n",
    "favorite_beverage =food_tuple[-1]\n",
    "print(fruits_vegetable)\n",
    "print(favorite_mushroom)\n",
    "print(favorite_beverage)"
   ]
  },
  {
   "cell_type": "code",
   "execution_count": 7,
   "metadata": {},
   "outputs": [
    {
     "name": "stdout",
     "output_type": "stream",
     "text": [
      "['WATERLEMON', 'LEMON', 'PEAR', 'tomato', 'patato', 'cauliflower', 'lentinula edodes', 'XUEBI']\n"
     ]
    }
   ],
   "source": [
    "# In[6]:\n",
    "food_list = list(food_tuple)\n",
    "print(food_list)"
   ]
  },
  {
   "cell_type": "code",
   "execution_count": 8,
   "metadata": {},
   "outputs": [
    {
     "name": "stdout",
     "output_type": "stream",
     "text": [
      "('tomato', 'patato')\n"
     ]
    }
   ],
   "source": [
    "# In[7]:\n",
    "print(food_tuple[3:5])"
   ]
  },
  {
   "cell_type": "code",
   "execution_count": 9,
   "metadata": {},
   "outputs": [
    {
     "name": "stdout",
     "output_type": "stream",
     "text": [
      "['cauliflower', 'lentinula edodes', 'XUEBI']\n",
      "['WATERLEMON', 'LEMON', 'PEAR']\n"
     ]
    }
   ],
   "source": [
    "# In[8]:\n",
    "print(food_list[-3:])\n",
    "print(food_list[:3])"
   ]
  },
  {
   "cell_type": "code",
   "execution_count": 10,
   "metadata": {},
   "outputs": [],
   "source": [
    "# In[10]:\n",
    "asian_countries = ('China','China','India','Thailand','Indonesia')"
   ]
  },
  {
   "cell_type": "code",
   "execution_count": 11,
   "metadata": {},
   "outputs": [
    {
     "name": "stdout",
     "output_type": "stream",
     "text": [
      "False\n",
      "True\n"
     ]
    }
   ],
   "source": [
    "# In[11]:\n",
    "print('Finland' in asian_countries)     \n",
    "print('India' in asian_countries)"
   ]
  }
 ],
 "metadata": {
  "kernelspec": {
   "display_name": "Python 3",
   "language": "python",
   "name": "python3"
  },
  "language_info": {
   "codemirror_mode": {
    "name": "ipython",
    "version": 3
   },
   "file_extension": ".py",
   "mimetype": "text/x-python",
   "name": "python",
   "nbconvert_exporter": "python",
   "pygments_lexer": "ipython3",
   "version": "3.7.4"
  }
 },
 "nbformat": 4,
 "nbformat_minor": 2
}
